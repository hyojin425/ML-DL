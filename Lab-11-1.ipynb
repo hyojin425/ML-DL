{
 "cells": [
  {
   "cell_type": "code",
   "execution_count": 1,
   "id": "c9305229",
   "metadata": {},
   "outputs": [],
   "source": [
    "import torch\n",
    "import numpy as np\n"
   ]
  },
  {
   "cell_type": "code",
   "execution_count": 2,
   "id": "4154dc9c",
   "metadata": {},
   "outputs": [],
   "source": [
    "input_size=4\n",
    "hidden_size=2\n",
    "\n",
    "h = [1, 0, 0, 0]\n",
    "e = [0, 1, 0, 0]\n",
    "l = [0, 0, 1, 0]\n",
    "o = [0, 0, 0, 1]\n",
    "input_data_np = np.array([[h, e, l, l, o], [e, o, l, l, l], [l, l, e, e, l]], dtype=np.float32)"
   ]
  },
  {
   "cell_type": "code",
   "execution_count": 3,
   "id": "c07548fa",
   "metadata": {},
   "outputs": [],
   "source": [
    "input_data = torch.Tensor(input_data_np)"
   ]
  },
  {
   "cell_type": "code",
   "execution_count": 4,
   "id": "22185253",
   "metadata": {},
   "outputs": [],
   "source": [
    "rnn = torch.nn.RNN(input_size, hidden_size)"
   ]
  },
  {
   "cell_type": "code",
   "execution_count": 5,
   "id": "4c1d2f58",
   "metadata": {},
   "outputs": [
    {
     "name": "stdout",
     "output_type": "stream",
     "text": [
      "tensor([[[ 0.0643, -0.3998],\n",
      "         [-0.4462, -0.5186],\n",
      "         [-0.5008,  0.1554],\n",
      "         [-0.5008,  0.1554],\n",
      "         [-0.1497, -0.1340]],\n",
      "\n",
      "        [[-0.5808, -0.5534],\n",
      "         [-0.3440,  0.0885],\n",
      "         [-0.4233,  0.4081],\n",
      "         [-0.4233,  0.4081],\n",
      "         [-0.5386,  0.2289]],\n",
      "\n",
      "        [[-0.6447,  0.4234],\n",
      "         [-0.4549,  0.3329],\n",
      "         [-0.2655, -0.3193],\n",
      "         [-0.2655, -0.3193],\n",
      "         [-0.3939,  0.4271]]], grad_fn=<StackBackward0>)\n",
      "torch.Size([3, 5, 2])\n"
     ]
    }
   ],
   "source": [
    "outputs, _status = rnn(input_data)\n",
    "print(outputs)\n",
    "print(outputs.size())"
   ]
  },
  {
   "cell_type": "code",
   "execution_count": null,
   "id": "d579bf3a",
   "metadata": {},
   "outputs": [],
   "source": []
  }
 ],
 "metadata": {
  "kernelspec": {
   "display_name": "Python 3 (ipykernel)",
   "language": "python",
   "name": "python3"
  },
  "language_info": {
   "codemirror_mode": {
    "name": "ipython",
    "version": 3
   },
   "file_extension": ".py",
   "mimetype": "text/x-python",
   "name": "python",
   "nbconvert_exporter": "python",
   "pygments_lexer": "ipython3",
   "version": "3.10.9"
  }
 },
 "nbformat": 4,
 "nbformat_minor": 5
}
